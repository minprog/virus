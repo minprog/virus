{
 "cells": [
  {
   "cell_type": "markdown",
   "metadata": {},
   "source": [
    "# Simuleren met virussen\n",
    "\n",
    "![](virus.jpg)\n",
    "\n",
    "Voor beleidsmakers en de farmaceutische industrie is het belangrijk om de succeskans van een geneesmiddel te bepalen. Omdat vele factoren een rol spelen is het lastig om deze kans in een wiskunde formule te vatten, en daarom biedt het doen van simulaties een uitkomst. In deze opdracht ga je virusdeeltjes simuleren die kunnen reproduceren en sterven. We bouwen deze opdracht stap voor stap op tot een complete, maar versimpelde simulatie.\n",
    "\n",
    "Bij deze opdracht focussen we niet alleen op het idee van simuleren, maar je gaat ook zorgvuldiger dan voorheen je code testen. Bij elke tussenstap vind je een codeblok met een functie die jij gaat implementeren. In de uitleg staat altijd een kopje \"Controle\", met aanwijzingen over hoe jij kan checken of je functie voldoet aan de verwachtingen. Deze aanwijzingen zijn niet compleet! Het kan zijn dat je tegen problemen aanloopt die hierdoor niet gecheckt worden. Je moet dus ook oefenen met het zelf nadenken over poteniële problemen. Het doel van tussentijdse checks is om te voorkomen dat fouten zich opstapelen. Als een fout zich pas op het allerlaatst vertoont, is het namelijk veel lastiger om de ware oorzaak te vinden.\n",
    "\n",
    "Tot slot spelen \"list comprehensions\" bij deze opdracht een grote rol. Om extra motivatie te geven deze te gebruiken, staat bij voor opdrachten een limiet voor het aantal regels code dat gebruikt mag worden voor de oplossing. Lukt dat niet goed? Maak je oplossing dan (zo mogelijk) eerst werkend zonder list comprehensions en vraag hulp aan de assistenten met het omzetten naar list comprehensions."
   ]
  },
  {
   "cell_type": "code",
   "execution_count": null,
   "metadata": {},
   "outputs": [],
   "source": [
    "import random\n",
    "import string"
   ]
  },
  {
   "cell_type": "markdown",
   "metadata": {},
   "source": [
    "## Stap 1: Virusgenoom\n",
    "\n",
    "DNA is een streng van moleculen die nucleotiden worden genoemd. Elk DNA-molecuul bestaat in feite uit twee strengen van dergelijke nucleotiden, die bovendien bij elke nucleotide met elkaar verbonden zijn. De verbonden nucleotiden noemen we basenparen. Omdat deze paren altijd in vaste combinaties voorkomen kunnen we bij het typeren van een dubbele DNA-streng volstaan met het specificeren van de namen van de nucleotiden van één streng. De namen zijn: adenine (A), cytosine (C), guanine (G) en thymine (T). Bij elke menselijke cel bestaat de DNA-streng uit miljarden van zulke basenparen. Ook veel virussen zijn opgebouwd uit precies dezelfde typen cellen.\n",
    "\n",
    "(Disclaimer: wij zijn geen biologen en coronavirussen zijn RNA-virussen en geen DNA-virussen :-))\n",
    "\n",
    "* Schrijf een functie `generateVirus(length)`.\n",
    "\t* Deze functie accepteert één argument, `length`, dat is een integer die de lengte van het virusgenoom representeerd.\n",
    "\t* De functie moet een string returnen bestaande uit een willekeurige sequentie van nucleotides.\n",
    "* Oh, one more thing: Je mag maar **twee regels code** gebruiken voor deze functie (dat is inclusief de regel `def generateVirus(length):`).\n",
    "\n",
    "### Tips\n",
    "\n",
    "* Kijk eens naar de `random.choice()` functie.\n",
    "* Gebruik een list comprehension en de `\"\".join()` methode van een string."
   ]
  },
  {
   "cell_type": "code",
   "execution_count": null,
   "metadata": {
    "ExecuteTime": {
     "end_time": "2020-09-29T07:23:52.038235Z",
     "start_time": "2020-09-29T07:23:52.022430Z"
    }
   },
   "outputs": [],
   "source": [
    "def generateVirus(length):\n",
    "    # TODO"
   ]
  },
  {
   "cell_type": "markdown",
   "metadata": {},
   "source": [
    "### Controle\n",
    "\n",
    "Maak en print virussen van verschillende lengtes om te kijken of deze kloppen. De uitkomst is natuurlijk willekeurig, dus kijk goed of de genomen inderdaad verschillen, en dat je over een paar keer draaien alle nucleotiden weleens voorbij ziet komen.\n",
    "\n",
    "Er zijn diverse manieren om te testen:\n",
    "\n",
    "* Je kunt gewoon `generateVirus()` een paar keer aanroepen in de cel hieronder en de output bestuderen.\n",
    "* Je kunt een loop schrijven die `generateVirus()` aanroept en de verschillen tussen de verschillende virussen bestuderen.\n",
    "* Als je een \"eigenschap\" weet te formuleren van de uitkomst van `generateVirus()` dan kun je ook een `assert` schrijven. Deze checkt of iets werkt zoals verwacht. Hieronder staan al twee asserts waaraan je functie moet voldoen. Als er geen foutmelding verschijnt, dan is de assert \"akkoord\".\n",
    "* Combinaties van alle bovenstaande."
   ]
  },
  {
   "cell_type": "code",
   "execution_count": null,
   "metadata": {
    "ExecuteTime": {
     "end_time": "2020-09-29T07:23:52.045990Z",
     "start_time": "2020-09-29T07:23:51.995Z"
    }
   },
   "outputs": [],
   "source": [
    "# Controleer de functie met een aantal zelfbedachte tests (vul aan!)\n",
    "\n",
    "assert len(generateVirus(3)) == 3\n",
    "assert type(generateVirus(0)) == str"
   ]
  },
  {
   "cell_type": "markdown",
   "metadata": {},
   "source": [
    "## Stap 2: Muteren\n",
    "\n",
    "Zodra een virus wordt geboren heeft deze een kans te muteren.\n",
    "Muteren is het veranderen van één willekeurig nucleotide voor een willekeurige ander.\n",
    "Bijvoorbeeld van AGTC naar ATTC.\n",
    "\n",
    "* Schrijf een functie `mutate(virus)`.\n",
    "\t* Deze functie accepteert één argument, `virus`, dat is een string van nucleotides.\n",
    "\t* De functie moet een string returnen bestaande uit dezelfde nucleotides, waarvan er één is gemuteerd.\n",
    "* Geen regellimiet dit keer, maar als je jezelf wilt uitdagen: 3 (of minder) regels is mogelijk.\n",
    "* Een mutatie waarna het resultaat hetzelfde is, telt niet als mutatie.\n",
    "\n",
    "### Tips\n",
    "\n",
    "* Kijk eens naar de `random.randrange()` functie!\n",
    "* Gebruik list slicing.\n",
    "\n",
    "### Controle\n",
    "\n",
    "* Controleer of de mutate functie altijd het virus veranderd. Je zou bijvoorbeeld een groot aantal (1000) virussen kunnen aanmaken en deze kunnen muteren. Is ieder virus anders na mutatie?\"\n",
    "* Controleer of de lengte van het virus gelijk is gebleven na mutatie."
   ]
  },
  {
   "cell_type": "code",
   "execution_count": null,
   "metadata": {
    "ExecuteTime": {
     "end_time": "2020-09-29T07:23:52.146436Z",
     "start_time": "2020-09-29T07:23:52.140365Z"
    }
   },
   "outputs": [],
   "source": [
    "def mutate(virus):\n",
    "    # TODO"
   ]
  },
  {
   "cell_type": "code",
   "execution_count": null,
   "metadata": {
    "ExecuteTime": {
     "end_time": "2020-09-29T07:23:52.151685Z",
     "start_time": "2020-09-29T07:23:52.059Z"
    }
   },
   "outputs": [],
   "source": [
    "# Controleer de functie met zelfbedachte tests"
   ]
  },
  {
   "cell_type": "markdown",
   "metadata": {},
   "source": [
    "## Stap 3: Afsterven\n",
    "\n",
    "De afgelopen twee tussenstappen hebben we met losse virussen gewerkt. Die hebben we weergegeven als een string. Voor onze toekomstige simulatie willen we alleen werken met een grote hoeveelheid virussen. Om zo'n populatie weer te geven, kunnen we een lijst maken van al die virussen. Dat zou er als volgt uit kunnen zien:\n",
    "\n",
    " ```['\"ACTG\", \"AGAA\", \"ACCG\", \"GTCA\"]``` \n",
    "\n",
    "\n",
    "Met deze structuur gaan we nu verder werken. Want virussen kunnen natuurlijk sterven. Ze sterven niet allemaal tegelijk, maar elke tijdstap heeft elke virus een kans om te sterven. Met de volgende functie gaan we het resultaat van één zo'n tijdstap weergeven.\n",
    "\n",
    "* Schrijf een functie `kill(viruses, mortalityProb)`.\n",
    "\t* Deze functie accepteert twee argumenten:\n",
    "\t\t* `viruses` is een lijst van virusgenomen.\n",
    "\t\t* `mortalityProb` is een float tussen 0 en 1 (inclusief) die de kans op het afsterven per virusdeeltje representeert.\n",
    "\t* De functie moet een **nieuwe** lijst returnen met daarin de virusgenomen die het hebben overleefd.\n",
    "* Let op, elk virusgenoom heeft een individuele kans om af te sterven. Dus bij een `mortalityProb` van 0.2 overleeft gemiddeld 80% van de viruspopulatie het, maar dit kan fluctueren!\n",
    "* Je mag hier **twee regels code** gebruiken (dat is inclusief de regel `def kill(viruses, mortalityProb):`).\n",
    "\n",
    "### Tip\n",
    "\n",
    "* Gebruik een list comprehension!\n",
    "\n",
    "\n",
    "### Controle\n",
    "\n",
    "* Bedenk hoeveel virussen er gemiddeld over zouden moeten blijven na deze functie. Let op dat er veel willekeur in deze functie is, dus dat het niet gek is als het een klein beetje erboven of eronder zit.\n",
    "* Test je functie niet alleen met waarden in het midden, maar ga ook op zoek naar de uiterste. Klopt er wat er gebeurt als ik de sterftekans op 0 of 1 zet?\n"
   ]
  },
  {
   "cell_type": "code",
   "execution_count": null,
   "metadata": {
    "ExecuteTime": {
     "end_time": "2020-09-29T07:23:52.155674Z",
     "start_time": "2020-09-29T07:23:52.067Z"
    }
   },
   "outputs": [],
   "source": [
    "def kill(viruses, mortalityProb):\n",
    "    # TODO"
   ]
  },
  {
   "cell_type": "code",
   "execution_count": null,
   "metadata": {
    "ExecuteTime": {
     "end_time": "2020-09-29T07:23:52.159208Z",
     "start_time": "2020-09-29T07:23:52.073Z"
    }
   },
   "outputs": [],
   "source": [
    "# Controleer de functie met zelfbedachte tests"
   ]
  },
  {
   "cell_type": "markdown",
   "metadata": {},
   "source": [
    "## Stap 4: Reproductie\n",
    "\n",
    "Een virus heeft een kans zich voort te planten op elke tijdstap in de simulatie.\n",
    "Als een virus zich voortplant dan heeft het kind exact dezelfde DNA string als de ouder.\n",
    "Behalve als het kind muteert, dan is er één basepaar anders.\n",
    "\n",
    "* Schrijf voor reproductie een functie `reproduce(viruses, mutationProb, reproductionProb)`.\n",
    "\t* Deze functie accepteert drie argumenten:\n",
    "\t\t* `viruses` is een lijst van virusgenomen.\n",
    "\t\t* `mutationProb` is een float tussen 0 en 1 (inclusief) die de kans op mutatie bij het kind virusdeeltje representeert.\n",
    "\t\t* `reproductionProb` is een float tussen 0 en 1 (inclusief) die de kans op reproductie per virusdeeltje representeert.\n",
    "* De functìe moet de lijst van de totale populatie van virusgenomen returnen. Dat is dus inclusief de ouders!\n",
    "* Let op, elk virusgenoom heeft een individuele kans om te reproduceren. Dus bij een `reproductionProb` van 0.2 reproduceert gemiddeld 20% van de populatie, maar dit kan fluctueren!\n",
    "* Geen regellimiet dit keer, maar als je jezelf wilt uitdagen: 2 regels is mogelijk.\n",
    "\n",
    "### Controle\n",
    "\n",
    "* Controleer net als bij vorige functie of deze functie ongeveer het verwachte aantal virussen teruggeeft.\n",
    "* Controleer of er ook daadwerkelijk virussen gemuteerd zijn."
   ]
  },
  {
   "cell_type": "code",
   "execution_count": null,
   "metadata": {
    "ExecuteTime": {
     "end_time": "2020-09-29T07:23:52.162685Z",
     "start_time": "2020-09-29T07:23:52.080Z"
    }
   },
   "outputs": [],
   "source": [
    "def reproduce(viruses, mutationProb, reproductionProb):\n",
    "    # TODO"
   ]
  },
  {
   "cell_type": "code",
   "execution_count": null,
   "metadata": {
    "ExecuteTime": {
     "end_time": "2020-09-29T07:23:52.165642Z",
     "start_time": "2020-09-29T07:23:52.085Z"
    }
   },
   "outputs": [],
   "source": [
    "# Controleer de functie met zelfbedachte tests"
   ]
  },
  {
   "cell_type": "markdown",
   "metadata": {},
   "source": [
    "## Stap 5: Resistentie\n",
    "\n",
    "![](medicine.png)\n",
    "\n",
    "Voor dat we kunnen gaan simuleren, voegen we een geneesmiddel toe aan onze simulatie.\n",
    "Virussen kunnen resistent zijn tegen zo'n geneesmiddel; bij de reproductie kan een mutatie ervoor zorgen dat de resistentie ontstaat. Een resistent virus is een virus dat `AAA` in de DNA-streng heeft.\n",
    "Zodra het geneesmiddel wordt geintroduceerd, kunnen alle virussen behalve resistente virussen niet meer reproduceren.\n",
    "\n",
    "* Schrijf een functie `isResistent(virus)`.\n",
    "\t* Deze functie accepteert één argument, `virus`, dit is een virusgenoom.\n",
    "\t* De functie moet een boolean returnen welke aangeeft of het virus resistent is (`True`) of niet (`False`).\n",
    "* Een virus is enkel resistent als `AAA` achterelkaar voorkomt.\n",
    "\n",
    "### Tip\n",
    "\n",
    "* Kijk eens naar de functie `string.find()`!\n",
    "\n",
    "### Controle\n",
    "* Test deze functie op verschillende virussen om te kijken of het de resistente virussen herkent."
   ]
  },
  {
   "cell_type": "code",
   "execution_count": null,
   "metadata": {
    "ExecuteTime": {
     "end_time": "2020-09-29T07:23:52.168380Z",
     "start_time": "2020-09-29T07:23:52.093Z"
    }
   },
   "outputs": [],
   "source": [
    "def isResistent(virus):\n",
    "    # TODO"
   ]
  },
  {
   "cell_type": "code",
   "execution_count": null,
   "metadata": {
    "ExecuteTime": {
     "end_time": "2020-09-29T07:23:52.171675Z",
     "start_time": "2020-09-29T07:23:52.098Z"
    }
   },
   "outputs": [],
   "source": [
    "# Controleer de functie met zelfbedachte tests"
   ]
  },
  {
   "cell_type": "markdown",
   "metadata": {},
   "source": [
    "## Reproductiekans als functie van de populatiegrootte\n",
    "\n",
    "Naarmate er meer virusdeeltjes aanwezig zijn, wordt de kans op reproductie kleiner.\n",
    "Er is simpelweg niet genoeg ruimte voor alle virusdeeltjes.\n",
    "Er is een negatief linear verband tussen het aantal virussen en de reproductie kans.\n",
    "De kans op reproductie is gelijk aan `(1 - (grootte_van_virus_populatie / maximaal_aantal_virussen)) * maximale_reproductie_kans`.\n",
    "De functie om de kans per individueel virusdeeltje in een populatie te berekenen vind je hieronder:\n"
   ]
  },
  {
   "cell_type": "code",
   "execution_count": null,
   "metadata": {
    "ExecuteTime": {
     "end_time": "2020-09-29T07:23:52.172677Z",
     "start_time": "2020-09-29T07:23:52.107Z"
    }
   },
   "outputs": [],
   "source": [
    "def reproductionProbability(viruses, maxReproductionProb, maxPopulation):\n",
    "    return (1 - (len(viruses) / maxPopulation)) * maxReproductionProb if maxPopulation > 0 else 0"
   ]
  },
  {
   "cell_type": "markdown",
   "metadata": {},
   "source": [
    "## Stap 6: Simuleren met een geneesmiddel\n",
    "\n",
    "Nu we een representatie hebben voor virussen, deze kunnen laten muteren, doen sterven, laten reproduceren en resistent kunnen laten zijn, kunnen we gaan simuleren.\n",
    "\n",
    "De simulatie werkt als volgt. Tijdens elke tijdstap:\n",
    "* Laten we eerst virussen afsterven,\n",
    "* Daarna berekenen we de productiekans,\n",
    "* Daarna laten we ze reproduceren\n",
    "\n",
    "**Maar** vanaf de 100e tijdstap voegen we een geneesmiddel toe aan de simulatie, en kunnen enkel resistente virussen reproduceren.\n",
    "\n",
    "\n",
    "\n",
    "Dus:\n",
    "* Schrijf een functie genaamd `simulate(viruses, mortalityProb, mutationProb, maxReproductionProb, maxPopulation, timesteps = 500)`.\n",
    "\t* Deze functie accepteert vijf argumenten, en één optioneel argument:\n",
    "\t\t* `viruses` is een lijst van virusgenomen.\n",
    "\t\t* `mortalityProb` is een float tussen 0 en 1 (inclusief) die de kans op het afsterven per virusdeeltje representeert.\n",
    "\t\t* `maxReproductionProb` is een float tussen 0 en 1 (inclusief) die de maximale kans op reproductie per virusdeeltje representeert.\n",
    "\t\t* `maxPopulation` is een integer voor de maximale populatiegrootte.\n",
    "\t\t* `mutationProb` is een float tussen 0 en 1 (inclusief) die de kans op mutatie bij reproductie representeert.\n",
    "\t\t* `timesteps` is een integer en een optioneel argument die het aantal tijdstappen in de simulatie aangeeft.\n",
    "\t* De functie moet een lijst returnen met daarin de populatiegrootte (een integer) op elke tijdstap.\n",
    "\n",
    "### Pseudocode\n",
    "Hieronder vind je de pseudocode voor de simulate functie. Kijk er goed naar, want de volgorde van de verschillende stappen in de simulatie is belangrijk. Zo kunnen er andere resultaten uitkomen als de virussen bijvoorbeeld eerst reproduceren en dan pas afsterven. \n",
    "Denk van te voren goed na over wat de stappen \"reproduce with medicine\" and \"reproduce without medicine\" precies inhouden. Wat het verschil is tussen de twee en hoe je dit kan implementeren\n",
    "\n",
    "    1  function simulate\n",
    "    2     let population_sizes be a list\n",
    "    3     for every timestep t\n",
    "    4         kill viruses\n",
    "    5         calculate reproduction probability\n",
    "    6         if timstep t >= 100\n",
    "    7             reproduce with medicine\n",
    "    8         else\n",
    "    9             reproduce without medicine\n",
    "    10        add size of population to population_sizes\n",
    "    11    return population_sizes\n",
    "\n",
    "\n",
    "### Tips\n",
    "Voor deze opdracht is het wellicht wat lastiger om zelf tests te bedenken. Daarom hebben we er onder de functie al twee meegegeven. De eerste controleert of het resultaat inderdaad bestaat uit 501 lijsten (500 tijdstappen plus de beginsituatie). De tweede controleert of, gegeven die variabelen, de simulatie de juiste resultaten geeft."
   ]
  },
  {
   "cell_type": "code",
   "execution_count": null,
   "metadata": {
    "ExecuteTime": {
     "end_time": "2020-09-29T07:23:52.175734Z",
     "start_time": "2020-09-29T07:23:52.113Z"
    }
   },
   "outputs": [],
   "source": [
    "def simulate(viruses, mortalityProb, mutationProb, maxReproductionProb, maxPopulation, timesteps = 500):\n",
    "    # TODO"
   ]
  },
  {
   "cell_type": "code",
   "execution_count": null,
   "metadata": {
    "ExecuteTime": {
     "end_time": "2020-09-29T07:23:52.179026Z",
     "start_time": "2020-09-29T07:23:52.115Z"
    }
   },
   "outputs": [],
   "source": [
    "# test 1\n",
    "viruses = [generateVirus(4) for _ in range(100)]\n",
    "assert 501 == len(simulate(viruses, 1, 0, 0, 0))\n",
    "\n",
    "# test 2\n",
    "sims = []\n",
    "n = 100\n",
    "for i in range(n):\n",
    "    viruses = [generateVirus(4) for _ in range(100)]\n",
    "    sims.append(simulate(viruses, 0.1, 0.1, 0.5, 100, timesteps = 1000)[-1])\n",
    "average = sum(sims) / n\n",
    "\n",
    "# note: this might fluctuate a little, so if needed you can enlarge the range of valid outcomes\n",
    "assert 25 < average < 30"
   ]
  },
  {
   "cell_type": "markdown",
   "metadata": {
    "ExecuteTime": {
     "end_time": "2020-09-15T12:19:20.009429Z",
     "start_time": "2020-09-15T12:19:20.004443Z"
    }
   },
   "source": [
    "## Afronding: grafieken\n",
    "\n",
    "Hieronder vind je code voor het maken van grafieken op basis van jouw zelfgeschreven functies. Je hoeft niks aan te passen aan de onderstaande code. Dit is natuurlijk de ultieme test: het zal alleen werken als alle bovenstaande functies precies volgens de specificatie geïmplementeerd zijn.\n",
    "\n",
    "Kijk eens door de code of je snapt wat er gebeurt. De functies van de `matplotlib`-library zijn eenvoudig, maar de meeste hebben een erg cryptische naam. Eventueel kun je in de documentatie van matplotlib kijken wat de functie doet. En als je geïnteresseerd bent en nog tijd hebt, probeer dan zelf nog onderaan een interessante grafiek toe te voegen!"
   ]
  },
  {
   "cell_type": "code",
   "execution_count": null,
   "metadata": {
    "ExecuteTime": {
     "end_time": "2020-09-29T07:23:52.182390Z",
     "start_time": "2020-09-29T07:23:52.119Z"
    }
   },
   "outputs": [],
   "source": [
    "%matplotlib inline\n",
    "import matplotlib.pyplot as plt"
   ]
  },
  {
   "cell_type": "markdown",
   "metadata": {
    "ExecuteTime": {
     "end_time": "2020-09-15T12:24:49.305222Z",
     "start_time": "2020-09-15T12:24:49.297243Z"
    }
   },
   "source": [
    "### Grafiek van één simulatie\n",
    "\n",
    "Hieronder een grafiek van één simulatie van jouw functie! :)"
   ]
  },
  {
   "cell_type": "code",
   "execution_count": null,
   "metadata": {
    "ExecuteTime": {
     "end_time": "2020-09-29T07:23:52.183554Z",
     "start_time": "2020-09-29T07:23:52.124Z"
    }
   },
   "outputs": [],
   "source": [
    "# uitkomst van de simulatie\n",
    "simulate_result = simulate(viruses, 0.1, 0.1, 0.5, 100, timesteps = 500)\n",
    "\n",
    "fig = plt.figure(figsize=(15, 10))\n",
    "ax = plt.axes()\n",
    "\n",
    "# plotten van de data\n",
    "ax.plot(range(501), simulate_result)\n",
    "\n",
    "# opmaak van de grafiek\n",
    "plt.title('Simulation')\n",
    "plt.xlabel('Timestep')\n",
    "plt.ylabel('Number of viruses')\n",
    "plt.ylim(0,110)\n",
    "plt.xlim(0,500)\n",
    "\n",
    "plt.show()"
   ]
  },
  {
   "cell_type": "markdown",
   "metadata": {},
   "source": [
    "### Grafiek van meerdere simulaties\n",
    "\n",
    "Zoals je misschien opviel bij de bovenstaande grafiek, het resultaat wisselt nogal. In onderstaande kun je zien dat er hoofdzakelijk twee manieren zijn waarop het kan verlopen."
   ]
  },
  {
   "cell_type": "code",
   "execution_count": null,
   "metadata": {
    "ExecuteTime": {
     "end_time": "2020-09-29T07:23:52.187540Z",
     "start_time": "2020-09-29T07:23:52.129Z"
    }
   },
   "outputs": [],
   "source": [
    "fig = plt.figure(figsize=(15, 10))\n",
    "ax = plt.axes()\n",
    "\n",
    "# uitvoeren van twintig simulaties\n",
    "for i in range(20):\n",
    "    simulate_result = simulate(viruses, 0.1, 0.1, 0.5, 100, timesteps = 500)\n",
    "    \n",
    "    # voeg het resultaat van een simulatie toe als lijn\n",
    "    ax.plot(range(501), simulate_result)\n",
    "\n",
    "# opmaak van de grafiek\n",
    "plt.title('Simulations')\n",
    "plt.xlabel('Timestep')\n",
    "plt.ylabel('Number of viruses')\n",
    "plt.ylim(0,110)\n",
    "plt.xlim(0,500)\n",
    "\n",
    "plt.show()"
   ]
  },
  {
   "cell_type": "markdown",
   "metadata": {},
   "source": [
    "### Genezen/ongenezen\n",
    "\n",
    "Als laatste grafiek gaan we kijken in hoeveel gevallen het geneesmiddel succesvol is geweest."
   ]
  },
  {
   "cell_type": "code",
   "execution_count": null,
   "metadata": {
    "ExecuteTime": {
     "end_time": "2020-09-29T07:23:52.190867Z",
     "start_time": "2020-09-29T07:23:52.136Z"
    }
   },
   "outputs": [],
   "source": [
    "cured = 0 # aantal genezen simulaties\n",
    "n_simulations = 100\n",
    "\n",
    "# voer de simulatie honderd keer uit, en hou bij hoeveel daarvan genezen zijn\n",
    "for i in range(n_simulations):\n",
    "    simulate_result = simulate(viruses, 0.1, 0.1, 0.5, 100, timesteps = 500)\n",
    "    # als de laatste tijdstap geen virussen bevat, is de persoon genezen\n",
    "    if simulate_result[-1] == 0:\n",
    "        cured += 1\n",
    "        \n",
    "labels = 'Cured', 'Not Cured'\n",
    "sizes = [cured, n_simulations - cured]\n",
    "\n",
    "# maken van de pie chart\n",
    "fig1, ax1 = plt.subplots(figsize=(8, 8))\n",
    "ax1.pie(sizes, labels=labels, autopct='%1i%%',startangle=90)\n",
    "ax1.axis('equal')\n",
    "plt.title('Pie chart of cured and non cured simulations')\n",
    "plt.show()"
   ]
  },
  {
   "cell_type": "markdown",
   "metadata": {},
   "source": [
    "Dit was Virus!"
   ]
  }
 ],
 "metadata": {
  "hide_input": false,
  "kernelspec": {
   "display_name": "Python 3",
   "language": "python",
   "name": "python3"
  },
  "language_info": {
   "codemirror_mode": {
    "name": "ipython",
    "version": 3
   },
   "file_extension": ".py",
   "mimetype": "text/x-python",
   "name": "python",
   "nbconvert_exporter": "python",
   "pygments_lexer": "ipython3",
   "version": "3.8.5"
  }
 },
 "nbformat": 4,
 "nbformat_minor": 2
}
